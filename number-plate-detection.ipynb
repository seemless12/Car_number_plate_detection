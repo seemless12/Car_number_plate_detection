{
 "cells": [
  {
   "cell_type": "markdown",
   "id": "3ba08009-b969-43d4-8814-76afb25c72c6",
   "metadata": {},
   "source": [
    "## Number plate Detection "
   ]
  },
  {
   "cell_type": "markdown",
   "id": "16ae4517-3189-4177-a9ca-d4125cb35276",
   "metadata": {},
   "source": [
    "### YOlO detection Model "
   ]
  },
  {
   "cell_type": "code",
   "execution_count": 1,
   "id": "70151b03-a92e-4e72-a0cd-a64dfbf35256",
   "metadata": {},
   "outputs": [],
   "source": [
    "# importing all essencial\n",
    "from ultralytics import YOLO\n",
    "import cv2"
   ]
  },
  {
   "cell_type": "code",
   "execution_count": 2,
   "id": "e617b087-02f0-43e8-9ae9-b2ec1f744ec8",
   "metadata": {},
   "outputs": [],
   "source": [
    "model = YOLO(\"best.pt\") # this is the model i have already trained "
   ]
  },
  {
   "cell_type": "code",
   "execution_count": 3,
   "id": "beec8649-0a2f-4a71-853f-d90643637e82",
   "metadata": {},
   "outputs": [],
   "source": [
    "cap = cv2.VideoCapture(0) #here we use openCv for live detection "
   ]
  },
  {
   "cell_type": "code",
   "execution_count": 6,
   "id": "144c57c9-95dd-47fd-83d2-ec7de9e89fcd",
   "metadata": {},
   "outputs": [],
   "source": [
    "# This loop is for video cycle \n",
    "\n",
    "while True:\n",
    "    ret,frames = cap.read() #ret have bool value and frames have live video frames \n",
    "    if not ret: #if ret is false the loop will break and our program will not work and we will not face any error and crash\n",
    "        break\n",
    "\n",
    "    results = model(frames,conf=0.25)[0]\n",
    "\n",
    "    # this loop is for bounding boxes\n",
    "    for box in results.boxes:\n",
    "        conf = float(box.conf[0])\n",
    "        x1,y1,x2,y2 = map(int,box.xyxy[0])\n",
    "        cls = int(box.cls[0])\n",
    "        labels = model.names[cls]\n",
    "    \n",
    "        cv2.rectangle(frames,(x1,y1),(x2,y2),(225,0,0),2) #This will draw rectangle around the detected object \n",
    "        cv2.putText(frames,f\"labels{labels}{conf:.2f}\",(x1,y1-10),cv2.FONT_HERSHEY_COMPLEX,1,(0,225,0),2) #This put text on the rectangel \n",
    "    \n",
    "    cv2.imshow(\"Detected number plate\",frames)\n",
    "    if cv2.waitKey(1) & 0xFF == ord('q'): # this is for quitting the program cuz you know if we didn't add this we are gonna stuck in infinite loop \n",
    "                break\n",
    "cap.release()\n",
    "cv2.destroyAllWindows()\n",
    "\n",
    "#wajahatamir @seemless12 (github)"
   ]
  },
  {
   "cell_type": "code",
   "execution_count": null,
   "id": "1ef35660-80d2-4b04-a0dc-d42a1fb129e9",
   "metadata": {},
   "outputs": [],
   "source": []
  }
 ],
 "metadata": {
  "kernelspec": {
   "display_name": "Python (datasci)",
   "language": "python",
   "name": "datasci"
  },
  "language_info": {
   "codemirror_mode": {
    "name": "ipython",
    "version": 3
   },
   "file_extension": ".py",
   "mimetype": "text/x-python",
   "name": "python",
   "nbconvert_exporter": "python",
   "pygments_lexer": "ipython3",
   "version": "3.10.18"
  }
 },
 "nbformat": 4,
 "nbformat_minor": 5
}
